{
  "metadata": {
    "kernelspec": {
      "language": "python",
      "display_name": "Python 3",
      "name": "python3"
    },
    "language_info": {
      "name": "python",
      "version": "3.10.13",
      "mimetype": "text/x-python",
      "codemirror_mode": {
        "name": "ipython",
        "version": 3
      },
      "pygments_lexer": "ipython3",
      "nbconvert_exporter": "python",
      "file_extension": ".py"
    },
    "kaggle": {
      "accelerator": "gpu",
      "dataSources": [
        {
          "sourceId": 8078544,
          "sourceType": "datasetVersion",
          "datasetId": 4767828
        }
      ],
      "dockerImageVersionId": 30684,
      "isInternetEnabled": true,
      "language": "python",
      "sourceType": "notebook",
      "isGpuEnabled": true
    },
    "colab": {
      "provenance": []
    }
  },
  "nbformat_minor": 0,
  "nbformat": 4,
  "cells": [
    {
      "cell_type": "markdown",
      "source": [],
      "metadata": {
        "id": "aWVOXN1oO5kj"
      }
    },
    {
      "cell_type": "markdown",
      "source": [],
      "metadata": {
        "id": "JORm1MThO5hK"
      }
    },
    {
      "cell_type": "markdown",
      "source": [],
      "metadata": {
        "id": "0u6H5enwO5dn"
      }
    },
    {
      "cell_type": "markdown",
      "source": [],
      "metadata": {
        "id": "31BIuMA9O5Y-"
      }
    },
    {
      "cell_type": "markdown",
      "source": [],
      "metadata": {
        "id": "SSECECCWO5Vq"
      }
    },
    {
      "cell_type": "markdown",
      "source": [],
      "metadata": {
        "id": "BXm_QeUvO5SH"
      }
    },
    {
      "cell_type": "markdown",
      "source": [
        "dataset;https://goo.gl/BcTtB4"
      ],
      "metadata": {
        "id": "-SB0uDNUO5OY"
      }
    },
    {
      "cell_type": "code",
      "source": [
        "import pandas as pd\n",
        "import numpy as np\n",
        "import nltk\n",
        "nltk.download('punkt')\n",
        "from nltk import word_tokenize , sent_tokenize\n",
        "from sklearn.model_selection import train_test_split\n",
        "\n",
        "import tensorflow as tf\n",
        "import tensorflow.keras as keras\n",
        "from tensorflow.keras.layers import Dense , LSTM , Embedding , Dropout\n",
        "from keras import Sequential\n",
        "from tensorflow.keras.preprocessing.text import Tokenizer\n",
        "from tensorflow.keras.preprocessing.sequence import pad_sequences"
      ],
      "metadata": {
        "execution": {
          "iopub.status.busy": "2024-04-10T06:02:26.039917Z",
          "iopub.execute_input": "2024-04-10T06:02:26.040274Z",
          "iopub.status.idle": "2024-04-10T06:02:40.620108Z",
          "shell.execute_reply.started": "2024-04-10T06:02:26.040225Z",
          "shell.execute_reply": "2024-04-10T06:02:40.619131Z"
        },
        "trusted": true,
        "id": "c9vSiMpcO2f5"
      },
      "execution_count": null,
      "outputs": []
    },
    {
      "cell_type": "code",
      "source": [
        "data1 = pd.read_csv(r\"/kaggle/input/content-generation/cloze_test_test__winter2018-cloze_test_ALL_test - 1.csv\")\n",
        "#data2 = pd.read_csv(r\"/kaggle/input/content-generation/cloze_test_val__winter2018-cloze_test_ALL_val - 1 - 1.csv\")"
      ],
      "metadata": {
        "execution": {
          "iopub.status.busy": "2024-04-10T06:03:06.453595Z",
          "iopub.execute_input": "2024-04-10T06:03:06.454526Z",
          "iopub.status.idle": "2024-04-10T06:03:06.482673Z",
          "shell.execute_reply.started": "2024-04-10T06:03:06.454489Z",
          "shell.execute_reply": "2024-04-10T06:03:06.481929Z"
        },
        "trusted": true,
        "id": "nlprZPpfO2f7"
      },
      "execution_count": null,
      "outputs": []
    },
    {
      "cell_type": "code",
      "source": [
        "def getsentences(dataframe):\n",
        "\n",
        "    input_sentences = dataframe['InputSentence1'] + dataframe['InputSentence2'] + dataframe['InputSentence3'] + dataframe['InputSentence4']\n",
        "\n",
        "    return input_sentences , dataframe['RandomFifthSentenceQuiz1'] , dataframe['RandomFifthSentenceQuiz2']"
      ],
      "metadata": {
        "execution": {
          "iopub.status.busy": "2024-04-10T06:03:07.112813Z",
          "iopub.execute_input": "2024-04-10T06:03:07.113217Z",
          "iopub.status.idle": "2024-04-10T06:03:07.118150Z",
          "shell.execute_reply.started": "2024-04-10T06:03:07.113182Z",
          "shell.execute_reply": "2024-04-10T06:03:07.117134Z"
        },
        "trusted": true,
        "id": "bFeRMLd8O2f7"
      },
      "execution_count": null,
      "outputs": []
    },
    {
      "cell_type": "code",
      "source": [
        "def preprocess(text):\n",
        "\n",
        "    text = text.lower()\n",
        "    text = text.strip()\n",
        "\n",
        "    sentences = sent_tokenize(text)\n",
        "    #words = []\n",
        "    #for sentence in sentences:\n",
        "     #   word_list = word_tokenize(sentence)\n",
        "      #  words += word_list\n",
        "\n",
        "    return sentences"
      ],
      "metadata": {
        "execution": {
          "iopub.status.busy": "2024-04-10T06:03:07.765838Z",
          "iopub.execute_input": "2024-04-10T06:03:07.766330Z",
          "iopub.status.idle": "2024-04-10T06:03:07.771207Z",
          "shell.execute_reply.started": "2024-04-10T06:03:07.766296Z",
          "shell.execute_reply": "2024-04-10T06:03:07.770212Z"
        },
        "trusted": true,
        "id": "RntdjVJWO2f9"
      },
      "execution_count": null,
      "outputs": []
    },
    {
      "cell_type": "code",
      "source": [
        "def proc2(y):\n",
        "    y__ = []\n",
        "    for i in y:\n",
        "        for j in i.split():\n",
        "            if j not in y__:\n",
        "                y__.append(j)\n",
        "\n",
        "    return y__"
      ],
      "metadata": {
        "execution": {
          "iopub.status.busy": "2024-04-10T06:17:53.475614Z",
          "iopub.execute_input": "2024-04-10T06:17:53.476321Z",
          "iopub.status.idle": "2024-04-10T06:17:53.481339Z",
          "shell.execute_reply.started": "2024-04-10T06:17:53.476283Z",
          "shell.execute_reply": "2024-04-10T06:17:53.480328Z"
        },
        "trusted": true,
        "id": "FcxeOOD_O2f9"
      },
      "execution_count": null,
      "outputs": []
    },
    {
      "cell_type": "code",
      "source": [
        "input_df1 , out1_1 , out2_1 = getsentences(data1)\n",
        "#input_df2 , out1_2 , out2_2 = getsentences(data2)"
      ],
      "metadata": {
        "execution": {
          "iopub.status.busy": "2024-04-10T06:03:08.299571Z",
          "iopub.execute_input": "2024-04-10T06:03:08.300249Z",
          "iopub.status.idle": "2024-04-10T06:03:08.308959Z",
          "shell.execute_reply.started": "2024-04-10T06:03:08.300218Z",
          "shell.execute_reply": "2024-04-10T06:03:08.307914Z"
        },
        "trusted": true,
        "id": "HSMW6x3vO2f9"
      },
      "execution_count": null,
      "outputs": []
    },
    {
      "cell_type": "code",
      "source": [
        "input_df1['words'] = input_df1.apply(preprocess)\n",
        "#input_df2['words'] = input_df2.apply(preprocess)"
      ],
      "metadata": {
        "execution": {
          "iopub.status.busy": "2024-04-10T06:03:11.225165Z",
          "iopub.execute_input": "2024-04-10T06:03:11.226054Z",
          "iopub.status.idle": "2024-04-10T06:03:11.344257Z",
          "shell.execute_reply.started": "2024-04-10T06:03:11.226016Z",
          "shell.execute_reply": "2024-04-10T06:03:11.343521Z"
        },
        "trusted": true,
        "id": "KKO42hZWO2f9"
      },
      "execution_count": null,
      "outputs": []
    },
    {
      "cell_type": "code",
      "source": [
        "out1_1[\"words\"] = out1_1.apply(preprocess)\n",
        "#out1_2[\"words\"] = out1_2.apply(preprocess)\n",
        "\n",
        "out2_1[\"words\"] = out2_1.apply(preprocess)\n",
        "#out2_2[\"words\"] = out2_2.apply(preprocess)\n"
      ],
      "metadata": {
        "execution": {
          "iopub.status.busy": "2024-04-10T06:03:11.609998Z",
          "iopub.execute_input": "2024-04-10T06:03:11.610826Z",
          "iopub.status.idle": "2024-04-10T06:03:11.718548Z",
          "shell.execute_reply.started": "2024-04-10T06:03:11.610795Z",
          "shell.execute_reply": "2024-04-10T06:03:11.717632Z"
        },
        "trusted": true,
        "id": "tkHMFskDO2f-"
      },
      "execution_count": null,
      "outputs": []
    },
    {
      "cell_type": "code",
      "source": [
        "input_list = []\n",
        "output_list = []"
      ],
      "metadata": {
        "execution": {
          "iopub.status.busy": "2024-04-10T06:03:12.038831Z",
          "iopub.execute_input": "2024-04-10T06:03:12.039196Z",
          "iopub.status.idle": "2024-04-10T06:03:12.043307Z",
          "shell.execute_reply.started": "2024-04-10T06:03:12.039166Z",
          "shell.execute_reply": "2024-04-10T06:03:12.042403Z"
        },
        "trusted": true,
        "id": "8n3HARzmO2f-"
      },
      "execution_count": null,
      "outputs": []
    },
    {
      "cell_type": "code",
      "source": [
        "for words in input_df1['words']:\n",
        "    input_list.append(words)\n",
        "\n",
        "#for words in input_df2['words']:\n",
        " #   input_list.append(words)\n",
        "\n",
        "for words in out1_1['words']:\n",
        "    input_list.append(words)\n",
        "\n",
        "#for words in out1_2['words']:\n",
        "  #  input_list.append(words)\n",
        "\n",
        "\n",
        "#for words in out2_1['words']:\n",
        " #   input_list.append(words)\n",
        "\n",
        "#for words in out2_2['words']:\n",
        "    #input_list.append(words)"
      ],
      "metadata": {
        "execution": {
          "iopub.status.busy": "2024-04-10T06:03:12.424665Z",
          "iopub.execute_input": "2024-04-10T06:03:12.425390Z",
          "iopub.status.idle": "2024-04-10T06:03:12.431513Z",
          "shell.execute_reply.started": "2024-04-10T06:03:12.425357Z",
          "shell.execute_reply": "2024-04-10T06:03:12.430602Z"
        },
        "trusted": true,
        "id": "SQoBzclqO2f_"
      },
      "execution_count": null,
      "outputs": []
    },
    {
      "cell_type": "code",
      "source": [
        "tokenizer = Tokenizer()\n",
        "tokenizer.fit_on_texts([word_tokenize(i[0]) for i in input_list] )\n",
        "sequences = tokenizer.texts_to_sequences([word_tokenize(i[0]) for i in input_list])"
      ],
      "metadata": {
        "execution": {
          "iopub.status.busy": "2024-04-10T06:03:12.816374Z",
          "iopub.execute_input": "2024-04-10T06:03:12.816737Z",
          "iopub.status.idle": "2024-04-10T06:03:14.437813Z",
          "shell.execute_reply.started": "2024-04-10T06:03:12.816709Z",
          "shell.execute_reply": "2024-04-10T06:03:14.437006Z"
        },
        "trusted": true,
        "id": "IhPmGiLfO2f_"
      },
      "execution_count": null,
      "outputs": []
    },
    {
      "cell_type": "code",
      "source": [
        "sequences[0]"
      ],
      "metadata": {
        "execution": {
          "iopub.status.busy": "2024-04-10T06:03:14.439318Z",
          "iopub.execute_input": "2024-04-10T06:03:14.439604Z",
          "iopub.status.idle": "2024-04-10T06:03:14.446994Z",
          "shell.execute_reply.started": "2024-04-10T06:03:14.439580Z",
          "shell.execute_reply": "2024-04-10T06:03:14.446122Z"
        },
        "trusted": true,
        "id": "vA6GxPH0O2f_"
      },
      "execution_count": null,
      "outputs": []
    },
    {
      "cell_type": "code",
      "source": [
        "vocab_size = len(tokenizer.word_index) + 1\n",
        "max_len = 100"
      ],
      "metadata": {
        "execution": {
          "iopub.status.busy": "2024-04-10T06:03:14.448209Z",
          "iopub.execute_input": "2024-04-10T06:03:14.448613Z",
          "iopub.status.idle": "2024-04-10T06:03:14.457346Z",
          "shell.execute_reply.started": "2024-04-10T06:03:14.448583Z",
          "shell.execute_reply": "2024-04-10T06:03:14.456514Z"
        },
        "trusted": true,
        "id": "IVYgyRYhO2f_"
      },
      "execution_count": null,
      "outputs": []
    },
    {
      "cell_type": "code",
      "source": [
        "embedding_dim = 100\n",
        "model = Sequential([\n",
        "    Embedding(input_dim=vocab_size, output_dim=embedding_dim),\n",
        "    LSTM(64, return_sequences=True),\n",
        "    LSTM(64 , return_sequences = True),\n",
        "    Dense(vocab_size, activation='softmax')\n",
        "])"
      ],
      "metadata": {
        "execution": {
          "iopub.status.busy": "2024-04-10T06:03:14.459502Z",
          "iopub.execute_input": "2024-04-10T06:03:14.460242Z",
          "iopub.status.idle": "2024-04-10T06:03:15.122726Z",
          "shell.execute_reply.started": "2024-04-10T06:03:14.460210Z",
          "shell.execute_reply": "2024-04-10T06:03:15.121721Z"
        },
        "trusted": true,
        "id": "28E2zej9O2gA"
      },
      "execution_count": null,
      "outputs": []
    },
    {
      "cell_type": "code",
      "source": [
        "dataframe = data1.copy()"
      ],
      "metadata": {
        "execution": {
          "iopub.status.busy": "2024-04-10T06:03:15.123925Z",
          "iopub.execute_input": "2024-04-10T06:03:15.124237Z",
          "iopub.status.idle": "2024-04-10T06:03:15.128990Z",
          "shell.execute_reply.started": "2024-04-10T06:03:15.124212Z",
          "shell.execute_reply": "2024-04-10T06:03:15.127968Z"
        },
        "trusted": true,
        "id": "M5BLc7coO2gA"
      },
      "execution_count": null,
      "outputs": []
    },
    {
      "cell_type": "code",
      "source": [
        "x = dataframe['InputSentence1'] + dataframe['InputSentence2'] + dataframe['InputSentence3'] + dataframe['InputSentence4']\n",
        "y = dataframe['RandomFifthSentenceQuiz1']"
      ],
      "metadata": {
        "execution": {
          "iopub.status.busy": "2024-04-10T06:03:15.130219Z",
          "iopub.execute_input": "2024-04-10T06:03:15.130573Z",
          "iopub.status.idle": "2024-04-10T06:03:15.140710Z",
          "shell.execute_reply.started": "2024-04-10T06:03:15.130542Z",
          "shell.execute_reply": "2024-04-10T06:03:15.139819Z"
        },
        "trusted": true,
        "id": "CVcWXu-BO2gA"
      },
      "execution_count": null,
      "outputs": []
    },
    {
      "cell_type": "code",
      "source": [
        "x_train , x_test , y_train , y_test = train_test_split(x , y , test_size = 0.2 , random_state = 42)"
      ],
      "metadata": {
        "execution": {
          "iopub.status.busy": "2024-04-10T06:03:15.142486Z",
          "iopub.execute_input": "2024-04-10T06:03:15.142822Z",
          "iopub.status.idle": "2024-04-10T06:03:15.156325Z",
          "shell.execute_reply.started": "2024-04-10T06:03:15.142798Z",
          "shell.execute_reply": "2024-04-10T06:03:15.155547Z"
        },
        "trusted": true,
        "id": "q-0QXAxZO2gA"
      },
      "execution_count": null,
      "outputs": []
    },
    {
      "cell_type": "code",
      "source": [
        "x_train_list = []\n",
        "x_test_list = []\n",
        "y_train_list = []\n",
        "y_test_list = []"
      ],
      "metadata": {
        "execution": {
          "iopub.status.busy": "2024-04-10T06:03:15.159346Z",
          "iopub.execute_input": "2024-04-10T06:03:15.159585Z",
          "iopub.status.idle": "2024-04-10T06:03:15.164971Z",
          "shell.execute_reply.started": "2024-04-10T06:03:15.159564Z",
          "shell.execute_reply": "2024-04-10T06:03:15.164055Z"
        },
        "trusted": true,
        "id": "x8MOrDxDO2gA"
      },
      "execution_count": null,
      "outputs": []
    },
    {
      "cell_type": "code",
      "source": [
        "for i in x_train:\n",
        "    x_train_list.append([i])"
      ],
      "metadata": {
        "execution": {
          "iopub.status.busy": "2024-04-10T06:03:15.500893Z",
          "iopub.execute_input": "2024-04-10T06:03:15.501265Z",
          "iopub.status.idle": "2024-04-10T06:03:15.506320Z",
          "shell.execute_reply.started": "2024-04-10T06:03:15.501233Z",
          "shell.execute_reply": "2024-04-10T06:03:15.505374Z"
        },
        "trusted": true,
        "id": "chCo6ydPO2gA"
      },
      "execution_count": null,
      "outputs": []
    },
    {
      "cell_type": "code",
      "source": [
        "for i in x_test:\n",
        "    x_test_list.append([i])"
      ],
      "metadata": {
        "execution": {
          "iopub.status.busy": "2024-04-10T06:03:15.916489Z",
          "iopub.execute_input": "2024-04-10T06:03:15.916820Z",
          "iopub.status.idle": "2024-04-10T06:03:15.921394Z",
          "shell.execute_reply.started": "2024-04-10T06:03:15.916795Z",
          "shell.execute_reply": "2024-04-10T06:03:15.920436Z"
        },
        "trusted": true,
        "id": "vKW6Y25-O2gA"
      },
      "execution_count": null,
      "outputs": []
    },
    {
      "cell_type": "code",
      "source": [
        "for i in y_train:\n",
        "    y_train_list.append([i])"
      ],
      "metadata": {
        "execution": {
          "iopub.status.busy": "2024-04-10T06:03:16.287238Z",
          "iopub.execute_input": "2024-04-10T06:03:16.287893Z",
          "iopub.status.idle": "2024-04-10T06:03:16.294289Z",
          "shell.execute_reply.started": "2024-04-10T06:03:16.287859Z",
          "shell.execute_reply": "2024-04-10T06:03:16.293136Z"
        },
        "trusted": true,
        "id": "CFobtX_fO2gA"
      },
      "execution_count": null,
      "outputs": []
    },
    {
      "cell_type": "code",
      "source": [
        "for i in y_test:\n",
        "    y_test_list.append([i])"
      ],
      "metadata": {
        "execution": {
          "iopub.status.busy": "2024-04-10T06:03:16.641739Z",
          "iopub.execute_input": "2024-04-10T06:03:16.642414Z",
          "iopub.status.idle": "2024-04-10T06:03:16.646511Z",
          "shell.execute_reply.started": "2024-04-10T06:03:16.642380Z",
          "shell.execute_reply": "2024-04-10T06:03:16.645553Z"
        },
        "trusted": true,
        "id": "AW3ddxw6O2gA"
      },
      "execution_count": null,
      "outputs": []
    },
    {
      "cell_type": "code",
      "source": [
        "x_train_seq = tokenizer.texts_to_sequences([word_tokenize(i[0]) for i in x_train_list])\n",
        "x_test_seq = tokenizer.texts_to_sequences([word_tokenize(i[0]) for i in x_test_list])\n",
        "\n",
        "y_train_seq = tokenizer.texts_to_sequences([word_tokenize(i[0]) for i in y_train_list])\n",
        "y_test_seq = tokenizer.texts_to_sequences([word_tokenize(i[0]) for i in y_test_list])\n"
      ],
      "metadata": {
        "execution": {
          "iopub.status.busy": "2024-04-10T06:03:16.809671Z",
          "iopub.execute_input": "2024-04-10T06:03:16.810293Z",
          "iopub.status.idle": "2024-04-10T06:03:17.641248Z",
          "shell.execute_reply.started": "2024-04-10T06:03:16.810262Z",
          "shell.execute_reply": "2024-04-10T06:03:17.640277Z"
        },
        "trusted": true,
        "id": "bWlIVTaNO2gA"
      },
      "execution_count": null,
      "outputs": []
    },
    {
      "cell_type": "code",
      "source": [
        "max_pad = 100"
      ],
      "metadata": {
        "execution": {
          "iopub.status.busy": "2024-04-10T06:03:17.643178Z",
          "iopub.execute_input": "2024-04-10T06:03:17.643522Z",
          "iopub.status.idle": "2024-04-10T06:03:17.648143Z",
          "shell.execute_reply.started": "2024-04-10T06:03:17.643491Z",
          "shell.execute_reply": "2024-04-10T06:03:17.647137Z"
        },
        "trusted": true,
        "id": "8SVoB4fdO2gB"
      },
      "execution_count": null,
      "outputs": []
    },
    {
      "cell_type": "code",
      "source": [
        "x_train_seq_padded = pad_sequences(x_train_seq ,  maxlen = max_pad)\n",
        "x_test_seq_padded = pad_sequences(x_test_seq ,  maxlen = max_pad)\n",
        "\n",
        "y_train_seq_padded = pad_sequences(y_train_seq ,  maxlen = max_pad)\n",
        "y_test_seq_padded = pad_sequences(y_test_seq ,  maxlen = max_pad)"
      ],
      "metadata": {
        "execution": {
          "iopub.status.busy": "2024-04-10T06:03:17.649308Z",
          "iopub.execute_input": "2024-04-10T06:03:17.649661Z",
          "iopub.status.idle": "2024-04-10T06:03:17.682844Z",
          "shell.execute_reply.started": "2024-04-10T06:03:17.649633Z",
          "shell.execute_reply": "2024-04-10T06:03:17.681984Z"
        },
        "trusted": true,
        "id": "seuKPRZEO2gB"
      },
      "execution_count": null,
      "outputs": []
    },
    {
      "cell_type": "code",
      "source": [
        "x_train_seq_padded[1]"
      ],
      "metadata": {
        "execution": {
          "iopub.status.busy": "2024-04-10T06:03:17.684602Z",
          "iopub.execute_input": "2024-04-10T06:03:17.684861Z",
          "iopub.status.idle": "2024-04-10T06:03:17.700963Z",
          "shell.execute_reply.started": "2024-04-10T06:03:17.684838Z",
          "shell.execute_reply": "2024-04-10T06:03:17.699954Z"
        },
        "trusted": true,
        "id": "hIvEmZr9O2gB"
      },
      "execution_count": null,
      "outputs": []
    },
    {
      "cell_type": "code",
      "source": [
        "#y_train_one_hot_enc = tf.keras.utils.to_categorical(y_train_seq_padded , vocab_size)"
      ],
      "metadata": {
        "execution": {
          "iopub.status.busy": "2024-04-10T06:03:17.785734Z",
          "iopub.execute_input": "2024-04-10T06:03:17.786042Z",
          "iopub.status.idle": "2024-04-10T06:03:17.790114Z",
          "shell.execute_reply.started": "2024-04-10T06:03:17.786009Z",
          "shell.execute_reply": "2024-04-10T06:03:17.789145Z"
        },
        "trusted": true,
        "id": "Aj5uuyZgO2gB"
      },
      "execution_count": null,
      "outputs": []
    },
    {
      "cell_type": "code",
      "source": [],
      "metadata": {
        "id": "HLktPqrcO2gB"
      },
      "execution_count": null,
      "outputs": []
    },
    {
      "cell_type": "code",
      "source": [
        "model.compile(loss = 'categorical_crossentropy' , optimizer = 'adam')"
      ],
      "metadata": {
        "execution": {
          "iopub.status.busy": "2024-04-10T06:03:18.148737Z",
          "iopub.execute_input": "2024-04-10T06:03:18.149115Z",
          "iopub.status.idle": "2024-04-10T06:03:18.172938Z",
          "shell.execute_reply.started": "2024-04-10T06:03:18.149062Z",
          "shell.execute_reply": "2024-04-10T06:03:18.172111Z"
        },
        "trusted": true,
        "id": "QBEgz9pgO2gB"
      },
      "execution_count": null,
      "outputs": []
    },
    {
      "cell_type": "code",
      "source": [
        "with tf.device('gpu:0'):\n",
        "    model.fit(x_train_seq_padded , tf.one_hot(y_train_seq_padded , vocab_size) , epochs = 25 , batch_size = 16)"
      ],
      "metadata": {
        "execution": {
          "iopub.status.busy": "2024-04-10T06:03:18.309863Z",
          "iopub.execute_input": "2024-04-10T06:03:18.310235Z",
          "iopub.status.idle": "2024-04-10T06:04:36.269995Z",
          "shell.execute_reply.started": "2024-04-10T06:03:18.310195Z",
          "shell.execute_reply": "2024-04-10T06:04:36.269093Z"
        },
        "trusted": true,
        "id": "SqHUPrt7O2gC"
      },
      "execution_count": null,
      "outputs": []
    },
    {
      "cell_type": "code",
      "source": [
        "with tf.device('gpu:0'):\n",
        "    model.fit(x_train_seq_padded , tf.one_hot(y_train_seq_padded , vocab_size) , epochs = 25 , batch_size = 16)"
      ],
      "metadata": {
        "execution": {
          "iopub.status.busy": "2024-04-10T06:04:36.272437Z",
          "iopub.execute_input": "2024-04-10T06:04:36.272807Z",
          "iopub.status.idle": "2024-04-10T06:05:50.088584Z",
          "shell.execute_reply.started": "2024-04-10T06:04:36.272772Z",
          "shell.execute_reply": "2024-04-10T06:05:50.087684Z"
        },
        "trusted": true,
        "id": "FsDUiucAO2gC"
      },
      "execution_count": null,
      "outputs": []
    },
    {
      "cell_type": "code",
      "source": [
        "with tf.device('gpu:0'):\n",
        "    model.fit(x_train_seq_padded , tf.one_hot(y_train_seq_padded , vocab_size) , epochs = 25 , batch_size = 16)"
      ],
      "metadata": {
        "execution": {
          "iopub.status.busy": "2024-04-10T06:06:53.477607Z",
          "iopub.execute_input": "2024-04-10T06:06:53.478306Z",
          "iopub.status.idle": "2024-04-10T06:08:07.125690Z",
          "shell.execute_reply.started": "2024-04-10T06:06:53.478269Z",
          "shell.execute_reply": "2024-04-10T06:08:07.124860Z"
        },
        "trusted": true,
        "id": "hXI2Y90hO2gC"
      },
      "execution_count": null,
      "outputs": []
    },
    {
      "cell_type": "code",
      "source": [
        "with tf.device('gpu:0'):\n",
        "    model.fit(x_train_seq_padded , tf.one_hot(y_train_seq_padded , vocab_size) , epochs = 25 , batch_size = 16)"
      ],
      "metadata": {
        "execution": {
          "iopub.status.busy": "2024-04-10T06:36:32.077268Z",
          "iopub.execute_input": "2024-04-10T06:36:32.077952Z",
          "iopub.status.idle": "2024-04-10T06:37:48.486691Z",
          "shell.execute_reply.started": "2024-04-10T06:36:32.077917Z",
          "shell.execute_reply": "2024-04-10T06:37:48.485759Z"
        },
        "trusted": true,
        "id": "O0eNppcCO2gC"
      },
      "execution_count": null,
      "outputs": []
    },
    {
      "cell_type": "code",
      "source": [
        "y_pred = model.predict(x_test_seq_padded)"
      ],
      "metadata": {
        "execution": {
          "iopub.status.busy": "2024-04-10T06:37:54.415948Z",
          "iopub.execute_input": "2024-04-10T06:37:54.417111Z",
          "iopub.status.idle": "2024-04-10T06:37:56.089767Z",
          "shell.execute_reply.started": "2024-04-10T06:37:54.417048Z",
          "shell.execute_reply": "2024-04-10T06:37:56.088842Z"
        },
        "trusted": true,
        "id": "sGQhFCvXO2gC"
      },
      "execution_count": null,
      "outputs": []
    },
    {
      "cell_type": "code",
      "source": [],
      "metadata": {
        "trusted": true,
        "id": "oHCDgxguO2gC"
      },
      "execution_count": null,
      "outputs": []
    },
    {
      "cell_type": "code",
      "source": [
        "tokenizer.sequences_to_texts(x_test_seq_padded)[0]"
      ],
      "metadata": {
        "execution": {
          "iopub.status.busy": "2024-04-10T06:37:56.091790Z",
          "iopub.execute_input": "2024-04-10T06:37:56.092146Z",
          "iopub.status.idle": "2024-04-10T06:37:56.141506Z",
          "shell.execute_reply.started": "2024-04-10T06:37:56.092114Z",
          "shell.execute_reply": "2024-04-10T06:37:56.140544Z"
        },
        "trusted": true,
        "id": "cG9Df2OoO2gC"
      },
      "execution_count": null,
      "outputs": []
    },
    {
      "cell_type": "code",
      "source": [
        "tokenizer.sequences_to_texts(y_test_seq_padded)[0]"
      ],
      "metadata": {
        "execution": {
          "iopub.status.busy": "2024-04-10T06:37:56.270654Z",
          "iopub.execute_input": "2024-04-10T06:37:56.271028Z",
          "iopub.status.idle": "2024-04-10T06:37:56.296985Z",
          "shell.execute_reply.started": "2024-04-10T06:37:56.270999Z",
          "shell.execute_reply": "2024-04-10T06:37:56.296017Z"
        },
        "trusted": true,
        "id": "YwyrgCArO2gC"
      },
      "execution_count": null,
      "outputs": []
    },
    {
      "cell_type": "code",
      "source": [
        "output = proc2(tokenizer.sequences_to_texts(np.argmax(y_pred , axis = 1)))"
      ],
      "metadata": {
        "execution": {
          "iopub.status.busy": "2024-04-10T06:37:56.594051Z",
          "iopub.execute_input": "2024-04-10T06:37:56.594882Z",
          "iopub.status.idle": "2024-04-10T06:37:59.984452Z",
          "shell.execute_reply.started": "2024-04-10T06:37:56.594847Z",
          "shell.execute_reply": "2024-04-10T06:37:59.983413Z"
        },
        "trusted": true,
        "id": "DJ_5IlgeO2gD"
      },
      "execution_count": null,
      "outputs": []
    },
    {
      "cell_type": "code",
      "source": [
        "\" \".join(output)"
      ],
      "metadata": {
        "execution": {
          "iopub.status.busy": "2024-04-10T06:37:59.986222Z",
          "iopub.execute_input": "2024-04-10T06:37:59.986529Z",
          "iopub.status.idle": "2024-04-10T06:37:59.992100Z",
          "shell.execute_reply.started": "2024-04-10T06:37:59.986502Z",
          "shell.execute_reply": "2024-04-10T06:37:59.991251Z"
        },
        "trusted": true,
        "id": "Q9ZUPg0ZO2gD"
      },
      "execution_count": null,
      "outputs": []
    },
    {
      "cell_type": "code",
      "source": [
        "a = [\"James has played baseball for eight years.\tThis year James is invited to take guitar lessons after school.\tGuitar lessons are on the same day as baseball practice.James chooses not to play baseball this year.\"]"
      ],
      "metadata": {
        "execution": {
          "iopub.status.busy": "2024-04-10T06:38:04.637480Z",
          "iopub.execute_input": "2024-04-10T06:38:04.638290Z",
          "iopub.status.idle": "2024-04-10T06:38:04.642403Z",
          "shell.execute_reply.started": "2024-04-10T06:38:04.638257Z",
          "shell.execute_reply": "2024-04-10T06:38:04.641407Z"
        },
        "trusted": true,
        "id": "TxGDb0R1O2gD"
      },
      "execution_count": null,
      "outputs": []
    },
    {
      "cell_type": "code",
      "source": [
        "x = []\n",
        "for i in a:\n",
        "    x.append([i])"
      ],
      "metadata": {
        "execution": {
          "iopub.status.busy": "2024-04-10T06:38:04.908318Z",
          "iopub.execute_input": "2024-04-10T06:38:04.908698Z",
          "iopub.status.idle": "2024-04-10T06:38:04.913271Z",
          "shell.execute_reply.started": "2024-04-10T06:38:04.908667Z",
          "shell.execute_reply": "2024-04-10T06:38:04.912309Z"
        },
        "trusted": true,
        "id": "LuxLOkJBO2gD"
      },
      "execution_count": null,
      "outputs": []
    },
    {
      "cell_type": "code",
      "source": [
        "x"
      ],
      "metadata": {
        "execution": {
          "iopub.status.busy": "2024-04-10T06:38:05.191968Z",
          "iopub.execute_input": "2024-04-10T06:38:05.192724Z",
          "iopub.status.idle": "2024-04-10T06:38:05.198459Z",
          "shell.execute_reply.started": "2024-04-10T06:38:05.192689Z",
          "shell.execute_reply": "2024-04-10T06:38:05.197530Z"
        },
        "trusted": true,
        "id": "Oi4Zn2ggO2gD"
      },
      "execution_count": null,
      "outputs": []
    },
    {
      "cell_type": "code",
      "source": [
        "tok = tokenizer.texts_to_sequences([word_tokenize(i[0]) for i in x])"
      ],
      "metadata": {
        "execution": {
          "iopub.status.busy": "2024-04-10T06:38:05.511658Z",
          "iopub.execute_input": "2024-04-10T06:38:05.512326Z",
          "iopub.status.idle": "2024-04-10T06:38:05.518022Z",
          "shell.execute_reply.started": "2024-04-10T06:38:05.512289Z",
          "shell.execute_reply": "2024-04-10T06:38:05.516899Z"
        },
        "trusted": true,
        "id": "-ZqkuPaXO2gD"
      },
      "execution_count": null,
      "outputs": []
    },
    {
      "cell_type": "code",
      "source": [
        "x_ = pad_sequences(tok , max_pad)"
      ],
      "metadata": {
        "execution": {
          "iopub.status.busy": "2024-04-10T06:38:05.999574Z",
          "iopub.execute_input": "2024-04-10T06:38:06.000429Z",
          "iopub.status.idle": "2024-04-10T06:38:06.004474Z",
          "shell.execute_reply.started": "2024-04-10T06:38:06.000395Z",
          "shell.execute_reply": "2024-04-10T06:38:06.003566Z"
        },
        "trusted": true,
        "id": "0axJHfQoO2gE"
      },
      "execution_count": null,
      "outputs": []
    },
    {
      "cell_type": "code",
      "source": [
        "y_ = (tokenizer.sequences_to_texts(np.argmax(model.predict(x_) , axis = 1)))"
      ],
      "metadata": {
        "execution": {
          "iopub.status.busy": "2024-04-10T06:42:54.957828Z",
          "iopub.execute_input": "2024-04-10T06:42:54.958212Z",
          "iopub.status.idle": "2024-04-10T06:42:55.037855Z",
          "shell.execute_reply.started": "2024-04-10T06:42:54.958181Z",
          "shell.execute_reply": "2024-04-10T06:42:55.037113Z"
        },
        "trusted": true,
        "id": "MyHqVKs4O2gE"
      },
      "execution_count": null,
      "outputs": []
    },
    {
      "cell_type": "code",
      "source": [
        " \" \".join(y_)"
      ],
      "metadata": {
        "execution": {
          "iopub.status.busy": "2024-04-10T06:42:56.493223Z",
          "iopub.execute_input": "2024-04-10T06:42:56.494180Z",
          "iopub.status.idle": "2024-04-10T06:42:56.500283Z",
          "shell.execute_reply.started": "2024-04-10T06:42:56.494142Z",
          "shell.execute_reply": "2024-04-10T06:42:56.499394Z"
        },
        "trusted": true,
        "id": "f2PD4w_oO2gE"
      },
      "execution_count": null,
      "outputs": []
    },
    {
      "cell_type": "code",
      "source": [],
      "metadata": {
        "id": "9VpHt3ezO2gE"
      },
      "execution_count": null,
      "outputs": []
    },
    {
      "cell_type": "code",
      "source": [],
      "metadata": {
        "id": "Eig_d5hdO2gE"
      },
      "execution_count": null,
      "outputs": []
    }
  ]
}